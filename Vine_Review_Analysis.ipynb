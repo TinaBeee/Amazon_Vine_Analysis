{
  "nbformat": 4,
  "nbformat_minor": 0,
  "metadata": {
    "colab": {
      "name": "Vine_Review_Analysis.ipynb",
      "provenance": [],
      "collapsed_sections": []
    },
    "kernelspec": {
      "name": "python3",
      "display_name": "Python 3"
    },
    "language_info": {
      "name": "python"
    }
  },
  "cells": [
    {
      "cell_type": "code",
      "execution_count": 1,
      "metadata": {
        "colab": {
          "base_uri": "https://localhost:8080/"
        },
        "id": "rHO-hiMT4Zn-",
        "outputId": "4941c7f2-dde7-4d30-9b34-4c27ec90abcb"
      },
      "outputs": [
        {
          "output_type": "stream",
          "name": "stdout",
          "text": [
            "\r0% [Working]\r            \rGet:1 https://cloud.r-project.org/bin/linux/ubuntu bionic-cran40/ InRelease [3,626 B]\n",
            "\r0% [Connecting to archive.ubuntu.com (91.189.88.142)] [Waiting for headers] [1 \r0% [Connecting to archive.ubuntu.com (91.189.88.142)] [Waiting for headers] [Wa\r                                                                               \rIgn:2 https://developer.download.nvidia.com/compute/cuda/repos/ubuntu1804/x86_64  InRelease\n",
            "\r0% [Connecting to archive.ubuntu.com (91.189.88.142)] [Waiting for headers] [Wa\r0% [1 InRelease gpgv 3,626 B] [Connecting to archive.ubuntu.com (91.189.88.142)\r                                                                               \rGet:3 http://security.ubuntu.com/ubuntu bionic-security InRelease [88.7 kB]\n",
            "\r0% [1 InRelease gpgv 3,626 B] [Waiting for headers] [3 InRelease 14.2 kB/88.7 k\r                                                                               \rGet:4 http://ppa.launchpad.net/c2d4u.team/c2d4u4.0+/ubuntu bionic InRelease [15.9 kB]\n",
            "\r0% [1 InRelease gpgv 3,626 B] [Waiting for headers] [3 InRelease 14.2 kB/88.7 k\r                                                                               \rIgn:5 https://developer.download.nvidia.com/compute/machine-learning/repos/ubuntu1804/x86_64  InRelease\n",
            "Get:6 https://developer.download.nvidia.com/compute/cuda/repos/ubuntu1804/x86_64  Release [696 B]\n",
            "Hit:7 https://developer.download.nvidia.com/compute/machine-learning/repos/ubuntu1804/x86_64  Release\n",
            "Get:8 https://developer.download.nvidia.com/compute/cuda/repos/ubuntu1804/x86_64  Release.gpg [836 B]\n",
            "Hit:9 http://archive.ubuntu.com/ubuntu bionic InRelease\n",
            "Get:10 http://archive.ubuntu.com/ubuntu bionic-updates InRelease [88.7 kB]\n",
            "Hit:11 http://ppa.launchpad.net/cran/libgit2/ubuntu bionic InRelease\n",
            "Get:12 http://archive.ubuntu.com/ubuntu bionic-backports InRelease [74.6 kB]\n",
            "Get:13 http://ppa.launchpad.net/deadsnakes/ppa/ubuntu bionic InRelease [15.9 kB]\n",
            "Get:14 http://ppa.launchpad.net/graphics-drivers/ppa/ubuntu bionic InRelease [21.3 kB]\n",
            "Get:16 https://developer.download.nvidia.com/compute/cuda/repos/ubuntu1804/x86_64  Packages [917 kB]\n",
            "Get:17 http://ppa.launchpad.net/c2d4u.team/c2d4u4.0+/ubuntu bionic/main Sources [1,825 kB]\n",
            "Get:18 http://security.ubuntu.com/ubuntu bionic-security/restricted amd64 Packages [783 kB]\n",
            "Get:19 http://ppa.launchpad.net/c2d4u.team/c2d4u4.0+/ubuntu bionic/main amd64 Packages [935 kB]\n",
            "Get:20 http://security.ubuntu.com/ubuntu bionic-security/multiverse amd64 Packages [21.1 kB]\n",
            "Get:21 http://security.ubuntu.com/ubuntu bionic-security/universe amd64 Packages [1,468 kB]\n",
            "Get:22 http://security.ubuntu.com/ubuntu bionic-security/main amd64 Packages [2,564 kB]\n",
            "Get:23 http://archive.ubuntu.com/ubuntu bionic-updates/universe amd64 Packages [2,247 kB]\n",
            "Get:24 http://archive.ubuntu.com/ubuntu bionic-updates/restricted amd64 Packages [816 kB]\n",
            "Get:25 http://archive.ubuntu.com/ubuntu bionic-updates/main amd64 Packages [3,004 kB]\n",
            "Get:26 http://archive.ubuntu.com/ubuntu bionic-updates/multiverse amd64 Packages [29.0 kB]\n",
            "Get:27 http://ppa.launchpad.net/deadsnakes/ppa/ubuntu bionic/main amd64 Packages [45.3 kB]\n",
            "Get:28 http://ppa.launchpad.net/graphics-drivers/ppa/ubuntu bionic/main amd64 Packages [42.8 kB]\n",
            "Fetched 15.0 MB in 7s (2,289 kB/s)\n",
            "Reading package lists... Done\n"
          ]
        }
      ],
      "source": [
        "import os\n",
        "# Find the latest version of spark 3.0  from http://www.apache.org/dist/spark/ and enter as the spark version\n",
        "# For example:\n",
        "# spark_version = 'spark-3.0.3'\n",
        "spark_version = 'spark-3.0.3'\n",
        "os.environ['SPARK_VERSION']=spark_version\n",
        "\n",
        "# Install Spark and Java\n",
        "!apt-get update\n",
        "!apt-get install openjdk-11-jdk-headless -qq > /dev/null\n",
        "!wget -q http://www.apache.org/dist/spark/$SPARK_VERSION/$SPARK_VERSION-bin-hadoop2.7.tgz\n",
        "!tar xf $SPARK_VERSION-bin-hadoop2.7.tgz\n",
        "!pip install -q findspark\n",
        "\n",
        "# Set Environment Variables\n",
        "os.environ[\"JAVA_HOME\"] = \"/usr/lib/jvm/java-11-openjdk-amd64\"\n",
        "os.environ[\"SPARK_HOME\"] = f\"/content/{spark_version}-bin-hadoop2.7\"\n",
        "\n",
        "# Start a SparkSession\n",
        "import findspark\n",
        "findspark.init()"
      ]
    },
    {
      "cell_type": "code",
      "source": [
        "# Start Spark session\n",
        "from pyspark.sql import SparkSession\n",
        "spark = SparkSession.builder.appName(\"Review_Analysis\").getOrCreate()"
      ],
      "metadata": {
        "id": "SmHbgTxS4g4x"
      },
      "execution_count": 2,
      "outputs": []
    },
    {
      "cell_type": "code",
      "source": [
        "from pyspark import SparkFiles\n",
        "url = \"https://s3.amazonaws.com/amazon-reviews-pds/tsv/amazon_reviews_us_Luggage_v1_00.tsv.gz\"\n",
        "spark.sparkContext.addFile(url)\n",
        "df = spark.read.option(\"encoding\", \"UTF-8\").csv(SparkFiles.get(\"amazon_reviews_us_Luggage_v1_00.tsv.gz\"), sep=\"\\t\", header=True, inferSchema=True)\n",
        "#df.describe()\n",
        "df.show()"
      ],
      "metadata": {
        "colab": {
          "base_uri": "https://localhost:8080/"
        },
        "id": "UQjN98m04s8F",
        "outputId": "b9391a1e-3b1e-45bf-c2e2-102e2de1a582"
      },
      "execution_count": 30,
      "outputs": [
        {
          "output_type": "stream",
          "name": "stdout",
          "text": [
            "+-----------+-----------+--------------+----------+--------------+--------------------+----------------+-----------+-------------+-----------+----+-----------------+--------------------+--------------------+-----------+\n",
            "|marketplace|customer_id|     review_id|product_id|product_parent|       product_title|product_category|star_rating|helpful_votes|total_votes|vine|verified_purchase|     review_headline|         review_body|review_date|\n",
            "+-----------+-----------+--------------+----------+--------------+--------------------+----------------+-----------+-------------+-----------+----+-----------------+--------------------+--------------------+-----------+\n",
            "|         US|   40884699| R9CO86UUJCAW5|B00VGTN02Y|     786681372|Teenage Mutant Ni...|         Luggage|          3|            0|          0|   N|                Y|my review of this...|my review of this...| 2015-08-31|\n",
            "|         US|   23208852|R3PR8X6QGVJ8B1|B005KIWL0E|     618251799|Kenneth Cole Reac...|         Luggage|          5|            0|          0|   N|                Y|          Five Stars|       Perfect size.| 2015-08-31|\n",
            "|         US|   17100246|R39BO2819ABUPF|B007UNSHJ6|     810480328|American Touriste...|         Luggage|          4|            0|          0|   N|                Y|            so good.|    So far, so good.| 2015-08-31|\n",
            "|         US|   13533670|R3ADL7V6EGGEEP|B00WHFNXB4|      20765193|15.5 Inch Purple ...|         Luggage|          4|            0|          0|   N|                Y|          Four Stars|seems nicely made...| 2015-08-31|\n",
            "|         US|   38541771|R1OXYPBPLVRMI5|B000M5NBYU|     812890709|Port & Company Zi...|         Luggage|          5|            0|          0|   N|                Y|           Dance Bag|Great bag for all...| 2015-08-31|\n",
            "|         US|   12686499|R1WYM8Z5ATQ98O|B00ACBJ89G|     624906499|J World New York ...|         Luggage|          3|            0|          0|   N|                Y|        TOO SMALL!!!|it´s nice BUT it´...| 2015-08-31|\n",
            "|         US|   27767206|R3LCIANTN1H9EC|B001H4BQ1A|     385044506|Voltage Valet Clo...|         Luggage|          4|            1|          1|   N|                Y|          Four Stars|It does the job b...| 2015-08-31|\n",
            "|         US|   46630606|R3U2M23N1P0KQ6|B00ESG6NDK|      51297652|Pro Packing Cubes...|         Luggage|          5|            0|          0|   N|                Y|          Five Stars|          Just fine.| 2015-08-31|\n",
            "|         US|   41622754|R29MB6N7HB6NZI|B00M14SAXC|     832113872|Girl's Dance Duff...|         Luggage|          1|            2|          2|   N|                Y|We were exited to...|We were exited to...| 2015-08-31|\n",
            "|         US|   15296380| RGEQ6DGRG7DQG|B012PC5QAY|     490793867|Disney Inside Out...|         Luggage|          5|            0|          0|   N|                Y|               cute!|Very nice and we'...| 2015-08-31|\n",
            "|         US|   21206415|R38HNH0BSS2KFE|B00VWKWWMG|     356411837|World Traveler 13...|         Luggage|          1|            1|          1|   N|                Y|            One Star|Brought it on vac...| 2015-08-31|\n",
            "|         US|   34554097|R2CATRM9CH59LY|B00N2U14UK|     326835930|Sherpani Trevia C...|         Luggage|          5|            4|          4|   N|                Y|A great bag for t...|I purchased this ...| 2015-08-31|\n",
            "|         US|   42252567|R18DMKNDPJ1BSN|B00K4F45CA|     954517686|Rockland Luggage ...|         Luggage|          5|            0|          1|   N|                Y|             Perfect|Love this light w...| 2015-08-31|\n",
            "|         US|    3532342| RZRSHBWXO3XUQ|B00U57FFA8|      98867907|Allant 16\" Padded...|         Luggage|          5|            0|          0|   N|                Y|it's durable and ...|Purchased this ba...| 2015-08-31|\n",
            "|         US|    7791634|R1BMTNSYCZY1NI|B00ROSRFQ8|     648371973|Polare Manly Real...|         Luggage|          3|            1|          1|   N|                Y|Strong well-made ...|I've had this bag...| 2015-08-31|\n",
            "|         US|    9911099| RPE2S0HZQ9EFP|B003ZV71BM|     406795103|American Flyer Lu...|         Luggage|          5|            0|          0|   N|                Y|          Five Stars|Love love love my...| 2015-08-31|\n",
            "|         US|   46124918|R2OOWJSFPDDA03|B00NJYB2JM|     255715129|Victoriatourist V...|         Luggage|          3|            0|          1|   N|                Y|         Three Stars|Smaller than expe...| 2015-08-31|\n",
            "|         US|     200537|R3EED64ZPXGZ92|B00LD0A4N4|     244117760|EcoCity Vintage C...|         Luggage|          3|            0|          0|   N|                Y|         Three Stars|Within the first ...| 2015-08-31|\n",
            "|         US|    1403856|R1BI8NF6YRH5HD|B00N5GVF6O|     626808161|Bolang Water Resi...|         Luggage|          5|            0|          0|   N|                Y|     Laptop backpack|Nice nice sturdy ...| 2015-08-31|\n",
            "|         US|    8201781| RUD7SDRQTAVMC|B00C75KZPQ|     176437087|Travelon Cosmetic...|         Luggage|          5|            0|          0|   N|                Y|           Fabulous!|Fabulous! Can use...| 2015-08-31|\n",
            "+-----------+-----------+--------------+----------+--------------+--------------------+----------------+-----------+-------------+-----------+----+-----------------+--------------------+--------------------+-----------+\n",
            "only showing top 20 rows\n",
            "\n"
          ]
        }
      ]
    },
    {
      "cell_type": "code",
      "source": [
        "# Create the vine_table. DataFrame\n",
        "vine_df = df.select(['review_id', 'star_rating', 'helpful_votes', 'total_votes', 'vine', 'verified_purchase'])\n",
        "vine_df.show()"
      ],
      "metadata": {
        "colab": {
          "base_uri": "https://localhost:8080/"
        },
        "id": "Xyof9ul140Ai",
        "outputId": "be937cba-e851-4345-e957-2b38125a429a"
      },
      "execution_count": 4,
      "outputs": [
        {
          "output_type": "stream",
          "name": "stdout",
          "text": [
            "+--------------+-----------+-------------+-----------+----+-----------------+\n",
            "|     review_id|star_rating|helpful_votes|total_votes|vine|verified_purchase|\n",
            "+--------------+-----------+-------------+-----------+----+-----------------+\n",
            "| R9CO86UUJCAW5|          3|            0|          0|   N|                Y|\n",
            "|R3PR8X6QGVJ8B1|          5|            0|          0|   N|                Y|\n",
            "|R39BO2819ABUPF|          4|            0|          0|   N|                Y|\n",
            "|R3ADL7V6EGGEEP|          4|            0|          0|   N|                Y|\n",
            "|R1OXYPBPLVRMI5|          5|            0|          0|   N|                Y|\n",
            "|R1WYM8Z5ATQ98O|          3|            0|          0|   N|                Y|\n",
            "|R3LCIANTN1H9EC|          4|            1|          1|   N|                Y|\n",
            "|R3U2M23N1P0KQ6|          5|            0|          0|   N|                Y|\n",
            "|R29MB6N7HB6NZI|          1|            2|          2|   N|                Y|\n",
            "| RGEQ6DGRG7DQG|          5|            0|          0|   N|                Y|\n",
            "|R38HNH0BSS2KFE|          1|            1|          1|   N|                Y|\n",
            "|R2CATRM9CH59LY|          5|            4|          4|   N|                Y|\n",
            "|R18DMKNDPJ1BSN|          5|            0|          1|   N|                Y|\n",
            "| RZRSHBWXO3XUQ|          5|            0|          0|   N|                Y|\n",
            "|R1BMTNSYCZY1NI|          3|            1|          1|   N|                Y|\n",
            "| RPE2S0HZQ9EFP|          5|            0|          0|   N|                Y|\n",
            "|R2OOWJSFPDDA03|          3|            0|          1|   N|                Y|\n",
            "|R3EED64ZPXGZ92|          3|            0|          0|   N|                Y|\n",
            "|R1BI8NF6YRH5HD|          5|            0|          0|   N|                Y|\n",
            "| RUD7SDRQTAVMC|          5|            0|          0|   N|                Y|\n",
            "+--------------+-----------+-------------+-----------+----+-----------------+\n",
            "only showing top 20 rows\n",
            "\n"
          ]
        }
      ]
    },
    {
      "cell_type": "code",
      "source": [
        "# Filter data where total votes is equal or greater than 20\n",
        "total_votes_df = vine_df.filter(vine_df[\"total_votes\"] >= 20)\n",
        "total_votes_df.show()"
      ],
      "metadata": {
        "colab": {
          "base_uri": "https://localhost:8080/"
        },
        "id": "NI0H_U-044dt",
        "outputId": "75aab852-068c-4b62-a80a-6690e6cab5c8"
      },
      "execution_count": 48,
      "outputs": [
        {
          "output_type": "stream",
          "name": "stdout",
          "text": [
            "+--------------+-----------+-------------+-----------+----+-----------------+\n",
            "|     review_id|star_rating|helpful_votes|total_votes|vine|verified_purchase|\n",
            "+--------------+-----------+-------------+-----------+----+-----------------+\n",
            "|R11IBSD5E6HPSD|          1|           29|         31|   N|                Y|\n",
            "|R2KVWAYBPWK1OV|          5|           20|         22|   N|                N|\n",
            "|R1FLOE9E4ODIGR|          5|           34|         38|   N|                Y|\n",
            "| R6XTEZCSCUJ4J|          5|           20|         23|   N|                Y|\n",
            "|R2WVV9LQKIVMOX|          5|           23|         23|   N|                N|\n",
            "| RYIU6GIB4TYT2|          5|           30|         30|   N|                N|\n",
            "| RNXGKYVCJDDL7|          5|           28|         28|   N|                Y|\n",
            "|R1E8V7J0K61754|          5|           18|         20|   N|                Y|\n",
            "| RK52L3B5733BH|          5|           22|         22|   N|                N|\n",
            "|R213PW7RSI6Z7N|          5|           48|         50|   N|                Y|\n",
            "| RUBBVNQCSYCDF|          5|           23|         24|   N|                Y|\n",
            "|R3IU65JJME7XHN|          5|           25|         27|   N|                N|\n",
            "|R25UFG485PAY9U|          5|           21|         22|   N|                Y|\n",
            "|R3V2GWR8BL2801|          5|           45|         46|   N|                Y|\n",
            "|R3ORL5J14E2IV7|          5|           27|         28|   N|                Y|\n",
            "|R3KMWBKK1ZWL0I|          5|           20|         23|   N|                Y|\n",
            "|R33FFKFYFU92PR|          1|           35|         48|   N|                Y|\n",
            "|R2IOC5X92Y742K|          3|           36|         40|   N|                N|\n",
            "|R2YGCTPT3TH9N8|          1|           19|         22|   N|                Y|\n",
            "|R2Q3HCPXG31PH1|          1|            1|         20|   N|                Y|\n",
            "+--------------+-----------+-------------+-----------+----+-----------------+\n",
            "only showing top 20 rows\n",
            "\n"
          ]
        }
      ]
    },
    {
      "cell_type": "code",
      "source": [
        "# Check data types\n",
        "#total_votes_df.describe()\n",
        "\n",
        "# convert data types\n",
        "from pyspark.sql.functions import col\n",
        "from pyspark.sql.types import IntegerType\n",
        "\n",
        "# Convert data types of int columns\n",
        "total_votes_df.withColumn(\"helpful_votes\",col(\"helpful_votes\").cast(\"int\"))\n",
        "total_votes_df.withColumn(\"total_votes\",col(\"total_votes\").cast(\"int\"))\n",
        "total_votes_df.withColumn(\"star_rating\",col(\"star_rating\").cast(\"int\"))\n"
      ],
      "metadata": {
        "colab": {
          "base_uri": "https://localhost:8080/"
        },
        "id": "o94pdNZw5egy",
        "outputId": "cdca2412-8160-4ca0-a606-e4ca612e9fd6"
      },
      "execution_count": 49,
      "outputs": [
        {
          "output_type": "execute_result",
          "data": {
            "text/plain": [
              "DataFrame[review_id: string, star_rating: int, helpful_votes: int, total_votes: int, vine: string, verified_purchase: string]"
            ]
          },
          "metadata": {},
          "execution_count": 49
        }
      ]
    },
    {
      "cell_type": "code",
      "source": [
        "# filter where no of helpful_votes divided by no of total_votes is equal to or greater than 50%\n",
        "\n",
        "helpful_votes_df = total_votes_df.filter(((total_votes_df[\"helpful_votes\"] / total_votes_df[\"total_votes\"])*100) >= 50)\n",
        "helpful_votes_df.show()"
      ],
      "metadata": {
        "colab": {
          "base_uri": "https://localhost:8080/"
        },
        "id": "PgOnZPHX7Yxr",
        "outputId": "23f537a5-f806-4d50-f50d-4714dbce3e49"
      },
      "execution_count": 68,
      "outputs": [
        {
          "output_type": "stream",
          "name": "stdout",
          "text": [
            "+--------------+-----------+-------------+-----------+----+-----------------+\n",
            "|     review_id|star_rating|helpful_votes|total_votes|vine|verified_purchase|\n",
            "+--------------+-----------+-------------+-----------+----+-----------------+\n",
            "|R11IBSD5E6HPSD|          1|           29|         31|   N|                Y|\n",
            "|R2KVWAYBPWK1OV|          5|           20|         22|   N|                N|\n",
            "|R1FLOE9E4ODIGR|          5|           34|         38|   N|                Y|\n",
            "| R6XTEZCSCUJ4J|          5|           20|         23|   N|                Y|\n",
            "|R2WVV9LQKIVMOX|          5|           23|         23|   N|                N|\n",
            "| RYIU6GIB4TYT2|          5|           30|         30|   N|                N|\n",
            "| RNXGKYVCJDDL7|          5|           28|         28|   N|                Y|\n",
            "|R1E8V7J0K61754|          5|           18|         20|   N|                Y|\n",
            "| RK52L3B5733BH|          5|           22|         22|   N|                N|\n",
            "|R213PW7RSI6Z7N|          5|           48|         50|   N|                Y|\n",
            "| RUBBVNQCSYCDF|          5|           23|         24|   N|                Y|\n",
            "|R3IU65JJME7XHN|          5|           25|         27|   N|                N|\n",
            "|R25UFG485PAY9U|          5|           21|         22|   N|                Y|\n",
            "|R3V2GWR8BL2801|          5|           45|         46|   N|                Y|\n",
            "|R3ORL5J14E2IV7|          5|           27|         28|   N|                Y|\n",
            "|R3KMWBKK1ZWL0I|          5|           20|         23|   N|                Y|\n",
            "|R33FFKFYFU92PR|          1|           35|         48|   N|                Y|\n",
            "|R2IOC5X92Y742K|          3|           36|         40|   N|                N|\n",
            "|R2YGCTPT3TH9N8|          1|           19|         22|   N|                Y|\n",
            "| RL5BOYS5UR4HR|          5|           25|         25|   N|                Y|\n",
            "+--------------+-----------+-------------+-----------+----+-----------------+\n",
            "only showing top 20 rows\n",
            "\n"
          ]
        }
      ]
    },
    {
      "cell_type": "code",
      "source": [
        "# filter for vine-sponsored reviews\n",
        "\n",
        "vine_yes_df = helpful_votes_df.filter(helpful_votes_df[\"vine\"] == 'Y')\n",
        "vine_yes_df.show()"
      ],
      "metadata": {
        "colab": {
          "base_uri": "https://localhost:8080/"
        },
        "id": "SsWZHz5hD8Hz",
        "outputId": "cd41453b-29d2-4e75-8db8-eca8e6536745"
      },
      "execution_count": 90,
      "outputs": [
        {
          "output_type": "stream",
          "name": "stdout",
          "text": [
            "+--------------+-----------+-------------+-----------+----+-----------------+\n",
            "|     review_id|star_rating|helpful_votes|total_votes|vine|verified_purchase|\n",
            "+--------------+-----------+-------------+-----------+----+-----------------+\n",
            "| RPJ7C4HP3BHXN|          5|           25|         29|   Y|                N|\n",
            "|R3SB08XK0M7993|          4|           44|         49|   Y|                N|\n",
            "|R26X1DACMCN3YF|          3|           16|         21|   Y|                N|\n",
            "|R17HKKDE9ZRVOO|          4|           31|         35|   Y|                N|\n",
            "|R1R7GNSCMO8U7I|          4|           24|         28|   Y|                N|\n",
            "|R2T83WIPG3IX5D|          4|           72|         76|   Y|                N|\n",
            "| RD006IWFCUA5A|          5|          122|        133|   Y|                N|\n",
            "| REOQCBUVUPXP1|          4|           23|         27|   Y|                N|\n",
            "|R2336R80ZEOKTX|          5|           63|         63|   Y|                N|\n",
            "| RC1ZXE5GVL9TA|          4|           20|         23|   Y|                N|\n",
            "|R2J7WSJ8EX3D5S|          5|           30|         32|   Y|                N|\n",
            "|R2QSLH5GY4OMNH|          5|           44|         45|   Y|                N|\n",
            "|R2A0F7MYQGBPEG|          4|           33|         40|   Y|                N|\n",
            "| R140DK42LYQWL|          4|           62|         65|   Y|                N|\n",
            "|R3HJAGVD491IFV|          5|          105|        105|   Y|                N|\n",
            "|R2N6KZ8A8T26IR|          1|           24|         26|   Y|                N|\n",
            "|R2AUGMTZKSPJST|          5|           19|         21|   Y|                N|\n",
            "|R1C3PCFS00UHBA|          5|           25|         26|   Y|                N|\n",
            "| RY1C7QLDFKZPG|          5|           26|         26|   Y|                N|\n",
            "| R1O5J8O83PI4Q|          4|           24|         24|   Y|                N|\n",
            "+--------------+-----------+-------------+-----------+----+-----------------+\n",
            "only showing top 20 rows\n",
            "\n"
          ]
        }
      ]
    },
    {
      "cell_type": "code",
      "source": [
        "# filter for none vine-sponsored reviews\n",
        "\n",
        "vine_no_df = helpful_votes_df.filter(helpful_votes_df[\"vine\"] == 'N')\n",
        "vine_no_df.show()"
      ],
      "metadata": {
        "colab": {
          "base_uri": "https://localhost:8080/"
        },
        "id": "ePckyVyLJPMw",
        "outputId": "8765a482-f2c2-44b5-f923-ade28d53d938"
      },
      "execution_count": 91,
      "outputs": [
        {
          "output_type": "stream",
          "name": "stdout",
          "text": [
            "+--------------+-----------+-------------+-----------+----+-----------------+\n",
            "|     review_id|star_rating|helpful_votes|total_votes|vine|verified_purchase|\n",
            "+--------------+-----------+-------------+-----------+----+-----------------+\n",
            "|R11IBSD5E6HPSD|          1|           29|         31|   N|                Y|\n",
            "|R2KVWAYBPWK1OV|          5|           20|         22|   N|                N|\n",
            "|R1FLOE9E4ODIGR|          5|           34|         38|   N|                Y|\n",
            "| R6XTEZCSCUJ4J|          5|           20|         23|   N|                Y|\n",
            "|R2WVV9LQKIVMOX|          5|           23|         23|   N|                N|\n",
            "| RYIU6GIB4TYT2|          5|           30|         30|   N|                N|\n",
            "| RNXGKYVCJDDL7|          5|           28|         28|   N|                Y|\n",
            "|R1E8V7J0K61754|          5|           18|         20|   N|                Y|\n",
            "| RK52L3B5733BH|          5|           22|         22|   N|                N|\n",
            "|R213PW7RSI6Z7N|          5|           48|         50|   N|                Y|\n",
            "| RUBBVNQCSYCDF|          5|           23|         24|   N|                Y|\n",
            "|R3IU65JJME7XHN|          5|           25|         27|   N|                N|\n",
            "|R25UFG485PAY9U|          5|           21|         22|   N|                Y|\n",
            "|R3V2GWR8BL2801|          5|           45|         46|   N|                Y|\n",
            "|R3ORL5J14E2IV7|          5|           27|         28|   N|                Y|\n",
            "|R3KMWBKK1ZWL0I|          5|           20|         23|   N|                Y|\n",
            "|R33FFKFYFU92PR|          1|           35|         48|   N|                Y|\n",
            "|R2IOC5X92Y742K|          3|           36|         40|   N|                N|\n",
            "|R2YGCTPT3TH9N8|          1|           19|         22|   N|                Y|\n",
            "| RL5BOYS5UR4HR|          5|           25|         25|   N|                Y|\n",
            "+--------------+-----------+-------------+-----------+----+-----------------+\n",
            "only showing top 20 rows\n",
            "\n"
          ]
        }
      ]
    },
    {
      "cell_type": "code",
      "source": [
        "# vine_yes_df analysis\n",
        "\n",
        "# total number of reviews\n",
        "total_reviews_yes = vine_yes_df.count()\n",
        "\n",
        "# total number of 5 star reviews\n",
        "total_five_yes = vine_yes_df.filter(vine_yes_df[\"star_rating\"] == 5).count()\n",
        "\n",
        "# share of 5 star reviews\n",
        "share_five_yes = round(((total_five_yes / total_reviews_yes)*100), 2)\n",
        "\n",
        "print(f\"There are {total_reviews_yes} total reviews that were paid for by the Vine program\")\n",
        "print(f\"Of those, {total_five_yes} are five-star reviews\")\n",
        "print(f\"{share_five_yes}% of all paid Vine reviews are five-star reviews\")"
      ],
      "metadata": {
        "colab": {
          "base_uri": "https://localhost:8080/"
        },
        "id": "R7ehSVFyJWLw",
        "outputId": "3362e66f-5310-4ca8-883c-d40ece7e10c1"
      },
      "execution_count": 92,
      "outputs": [
        {
          "output_type": "stream",
          "name": "stdout",
          "text": [
            "There are 21 total reviews that were paid for by the Vine program\n",
            "Of those, 10 are five-star reviews\n",
            "47.62% of all paid Vine reviews are five-star reviews\n"
          ]
        }
      ]
    },
    {
      "cell_type": "code",
      "source": [
        "# vine_no_df analysis\n",
        "\n",
        "# total number of reviews\n",
        "total_reviews_no = vine_no_df.count()\n",
        "\n",
        "# total number of 5 star reviews\n",
        "total_five_no = vine_no_df.filter(vine_no_df[\"star_rating\"] == 5).count()\n",
        "\n",
        "# share of 5 star reviewsshare_five_no = round(((total_five_no / total_reviews_no)*100), 2)\n",
        "\n",
        "print(f\"There are {total_reviews_no} total reviews that were not paid for by the Vine program\")\n",
        "print(f\"Of those, {total_five_no} are five-star reviews\")\n",
        "print(f\"{share_five_no}% of all non-paid Vine reviews are five-star reviews\")"
      ],
      "metadata": {
        "colab": {
          "base_uri": "https://localhost:8080/"
        },
        "id": "PG8LKqH9KEMp",
        "outputId": "53ee2eb0-b830-466b-ba13-d4253e64219c"
      },
      "execution_count": 93,
      "outputs": [
        {
          "output_type": "stream",
          "name": "stdout",
          "text": [
            "There are 6690 total reviews that were not paid for by the Vine program\n",
            "Of those, 3448 are five-star reviews\n",
            "51.54% of all non-paid Vine reviews are five-star reviews\n"
          ]
        }
      ]
    },
    {
      "cell_type": "code",
      "source": [
        ""
      ],
      "metadata": {
        "id": "olMLvDWlPUVr"
      },
      "execution_count": null,
      "outputs": []
    }
  ]
}